{
 "cells": [
  {
   "cell_type": "code",
   "execution_count": 1,
   "metadata": {},
   "outputs": [],
   "source": [
    "# Exercise 1"
   ]
  },
  {
   "cell_type": "code",
   "execution_count": 2,
   "metadata": {},
   "outputs": [],
   "source": [
    "import math\n",
    "import matplotlib.pyplot as plt\n",
    "import networkx as nx\n",
    "import numpy as np\n",
    "import os\n",
    "import pandas as pd\n",
    "\n",
    "import distance as dis\n",
    "import dtransform as dt\n",
    "import subgraphs as sg"
   ]
  },
  {
   "cell_type": "code",
   "execution_count": 3,
   "metadata": {},
   "outputs": [
    {
     "data": {
      "text/html": [
       "<div>\n",
       "<style scoped>\n",
       "    .dataframe tbody tr th:only-of-type {\n",
       "        vertical-align: middle;\n",
       "    }\n",
       "\n",
       "    .dataframe tbody tr th {\n",
       "        vertical-align: top;\n",
       "    }\n",
       "\n",
       "    .dataframe thead th {\n",
       "        text-align: right;\n",
       "    }\n",
       "</style>\n",
       "<table border=\"1\" class=\"dataframe\">\n",
       "  <thead>\n",
       "    <tr style=\"text-align: right;\">\n",
       "      <th></th>\n",
       "      <th>Bouyancy Position</th>\n",
       "      <th>Prismatic Coefficient</th>\n",
       "      <th>Length-Displacement Ratio</th>\n",
       "      <th>Beam-Drought Ratio</th>\n",
       "      <th>Length-Beam Ratio</th>\n",
       "      <th>Froude Number</th>\n",
       "      <th>Residuary Resistance</th>\n",
       "    </tr>\n",
       "  </thead>\n",
       "  <tbody>\n",
       "    <tr>\n",
       "      <th>0</th>\n",
       "      <td>-2.3</td>\n",
       "      <td>0.568</td>\n",
       "      <td>4.78</td>\n",
       "      <td>3.99</td>\n",
       "      <td>3.17</td>\n",
       "      <td>0.125</td>\n",
       "      <td>0.11</td>\n",
       "    </tr>\n",
       "    <tr>\n",
       "      <th>1</th>\n",
       "      <td>-2.3</td>\n",
       "      <td>0.568</td>\n",
       "      <td>4.78</td>\n",
       "      <td>3.99</td>\n",
       "      <td>3.17</td>\n",
       "      <td>0.150</td>\n",
       "      <td>0.27</td>\n",
       "    </tr>\n",
       "    <tr>\n",
       "      <th>2</th>\n",
       "      <td>-2.3</td>\n",
       "      <td>0.568</td>\n",
       "      <td>4.78</td>\n",
       "      <td>3.99</td>\n",
       "      <td>3.17</td>\n",
       "      <td>0.175</td>\n",
       "      <td>0.47</td>\n",
       "    </tr>\n",
       "    <tr>\n",
       "      <th>3</th>\n",
       "      <td>-2.3</td>\n",
       "      <td>0.568</td>\n",
       "      <td>4.78</td>\n",
       "      <td>3.99</td>\n",
       "      <td>3.17</td>\n",
       "      <td>0.200</td>\n",
       "      <td>0.78</td>\n",
       "    </tr>\n",
       "    <tr>\n",
       "      <th>4</th>\n",
       "      <td>-2.3</td>\n",
       "      <td>0.568</td>\n",
       "      <td>4.78</td>\n",
       "      <td>3.99</td>\n",
       "      <td>3.17</td>\n",
       "      <td>0.225</td>\n",
       "      <td>1.18</td>\n",
       "    </tr>\n",
       "  </tbody>\n",
       "</table>\n",
       "</div>"
      ],
      "text/plain": [
       "   Bouyancy Position  Prismatic Coefficient  Length-Displacement Ratio  \\\n",
       "0               -2.3                  0.568                       4.78   \n",
       "1               -2.3                  0.568                       4.78   \n",
       "2               -2.3                  0.568                       4.78   \n",
       "3               -2.3                  0.568                       4.78   \n",
       "4               -2.3                  0.568                       4.78   \n",
       "\n",
       "   Beam-Drought Ratio  Length-Beam Ratio  Froude Number  Residuary Resistance  \n",
       "0                3.99               3.17          0.125                  0.11  \n",
       "1                3.99               3.17          0.150                  0.27  \n",
       "2                3.99               3.17          0.175                  0.47  \n",
       "3                3.99               3.17          0.200                  0.78  \n",
       "4                3.99               3.17          0.225                  1.18  "
      ]
     },
     "execution_count": 3,
     "metadata": {},
     "output_type": "execute_result"
    }
   ],
   "source": [
    "titles = [\"Bouyancy Position\", \"Prismatic Coefficient\", \"Length-Displacement Ratio\", \\\n",
    "          \"Beam-Drought Ratio\", \"Length-Beam Ratio\", \"Froude Number\", \"Residuary Resistance\"]\n",
    "\n",
    "# Use python engine so that a delimieter with regex can be used\n",
    "# The data file separates values with more than one space in some instances\n",
    "yacht_data = pd.read_csv(\"datasets/yacht_hydrodynamics.data\", delimiter=\" +\", engine='python', names=titles)\n",
    "yacht_data.head()"
   ]
  },
  {
   "cell_type": "code",
   "execution_count": 4,
   "metadata": {},
   "outputs": [
    {
     "data": {
      "text/html": [
       "<div>\n",
       "<style scoped>\n",
       "    .dataframe tbody tr th:only-of-type {\n",
       "        vertical-align: middle;\n",
       "    }\n",
       "\n",
       "    .dataframe tbody tr th {\n",
       "        vertical-align: top;\n",
       "    }\n",
       "\n",
       "    .dataframe thead th {\n",
       "        text-align: right;\n",
       "    }\n",
       "</style>\n",
       "<table border=\"1\" class=\"dataframe\">\n",
       "  <thead>\n",
       "    <tr style=\"text-align: right;\">\n",
       "      <th></th>\n",
       "      <th>Bouyancy Position</th>\n",
       "      <th>Prismatic Coefficient</th>\n",
       "      <th>Length-Displacement Ratio</th>\n",
       "      <th>Beam-Drought Ratio</th>\n",
       "      <th>Length-Beam Ratio</th>\n",
       "      <th>Froude Number</th>\n",
       "      <th>Residuary Resistance</th>\n",
       "    </tr>\n",
       "  </thead>\n",
       "  <tbody>\n",
       "    <tr>\n",
       "      <th>0</th>\n",
       "      <td>0.54</td>\n",
       "      <td>0.542857</td>\n",
       "      <td>0.55</td>\n",
       "      <td>0.464567</td>\n",
       "      <td>0.483516</td>\n",
       "      <td>0.000000</td>\n",
       "      <td>0.001602</td>\n",
       "    </tr>\n",
       "    <tr>\n",
       "      <th>1</th>\n",
       "      <td>0.54</td>\n",
       "      <td>0.542857</td>\n",
       "      <td>0.55</td>\n",
       "      <td>0.464567</td>\n",
       "      <td>0.483516</td>\n",
       "      <td>0.076923</td>\n",
       "      <td>0.004166</td>\n",
       "    </tr>\n",
       "    <tr>\n",
       "      <th>2</th>\n",
       "      <td>0.54</td>\n",
       "      <td>0.542857</td>\n",
       "      <td>0.55</td>\n",
       "      <td>0.464567</td>\n",
       "      <td>0.483516</td>\n",
       "      <td>0.153846</td>\n",
       "      <td>0.007371</td>\n",
       "    </tr>\n",
       "    <tr>\n",
       "      <th>3</th>\n",
       "      <td>0.54</td>\n",
       "      <td>0.542857</td>\n",
       "      <td>0.55</td>\n",
       "      <td>0.464567</td>\n",
       "      <td>0.483516</td>\n",
       "      <td>0.230769</td>\n",
       "      <td>0.012338</td>\n",
       "    </tr>\n",
       "    <tr>\n",
       "      <th>4</th>\n",
       "      <td>0.54</td>\n",
       "      <td>0.542857</td>\n",
       "      <td>0.55</td>\n",
       "      <td>0.464567</td>\n",
       "      <td>0.483516</td>\n",
       "      <td>0.307692</td>\n",
       "      <td>0.018747</td>\n",
       "    </tr>\n",
       "  </tbody>\n",
       "</table>\n",
       "</div>"
      ],
      "text/plain": [
       "   Bouyancy Position  Prismatic Coefficient  Length-Displacement Ratio  \\\n",
       "0               0.54               0.542857                       0.55   \n",
       "1               0.54               0.542857                       0.55   \n",
       "2               0.54               0.542857                       0.55   \n",
       "3               0.54               0.542857                       0.55   \n",
       "4               0.54               0.542857                       0.55   \n",
       "\n",
       "   Beam-Drought Ratio  Length-Beam Ratio  Froude Number  Residuary Resistance  \n",
       "0            0.464567           0.483516       0.000000              0.001602  \n",
       "1            0.464567           0.483516       0.076923              0.004166  \n",
       "2            0.464567           0.483516       0.153846              0.007371  \n",
       "3            0.464567           0.483516       0.230769              0.012338  \n",
       "4            0.464567           0.483516       0.307692              0.018747  "
      ]
     },
     "execution_count": 4,
     "metadata": {},
     "output_type": "execute_result"
    }
   ],
   "source": [
    "# Normalise data\n",
    "for _, attr in yacht_data.items():\n",
    "    dt.normalise(attr)\n",
    "    \n",
    "yacht_data.head()"
   ]
  },
  {
   "cell_type": "code",
   "execution_count": 5,
   "metadata": {},
   "outputs": [
    {
     "name": "stdout",
     "output_type": "stream",
     "text": [
      "['Bouyancy Position', 'Prismatic Coefficient', 'Length-Displacement Ratio', 'Beam-Drought Ratio', 'Length-Beam Ratio', 'Froude Number', 'Residuary Resistance']\n"
     ]
    }
   ],
   "source": [
    "attr_labels = []\n",
    "for label in yacht_data.columns:\n",
    "    attr_labels.append(label)\n",
    "\n",
    "inst_labels = yacht_data.index\n",
    "    \n",
    "print(attr_labels)"
   ]
  },
  {
   "cell_type": "code",
   "execution_count": 6,
   "metadata": {},
   "outputs": [
    {
     "name": "stdout",
     "output_type": "stream",
     "text": [
      "Path exists\n"
     ]
    }
   ],
   "source": [
    "# Attributes are columns, instances are rows\n",
    "ninst, nattr = yacht_data.shape\n",
    "D = np.zeros((ninst, ninst))\n",
    "\n",
    "for i in range(ninst):\n",
    "    i_data = yacht_data.iloc[i, :].values\n",
    "    for j in range(i, ninst):\n",
    "        j_data = yacht_data.iloc[j, :].values\n",
    "        \n",
    "        dist = dis.eucl_dist(i_data, j_data)\n",
    "        D[i][j] = D[j][i] = dist\n",
    "        \n",
    "if os.path.exists(\"output\"):\n",
    "    print(\"Path exists\")\n",
    "else:\n",
    "    print(\"Path not found, creating directory\")\n",
    "    os.mkdir(\"output\")\n",
    "    \n",
    "np.savetxt(\"output/YachtInstanceDistMatrix.csv\", D, fmt=\"%.2f\", delimiter=\",\")    "
   ]
  },
  {
   "cell_type": "code",
   "execution_count": 7,
   "metadata": {},
   "outputs": [
    {
     "name": "stdout",
     "output_type": "stream",
     "text": [
      "Path exists\n"
     ]
    }
   ],
   "source": [
    "D_attr = np.zeros((nattr, nattr))\n",
    "\n",
    "for i in range(nattr):\n",
    "    i_data = yacht_data.iloc[:, i].values\n",
    "    for j in range(i, nattr):\n",
    "        j_data = yacht_data.iloc[:, j].values\n",
    "        \n",
    "        dist = dis.eucl_dist(i_data, j_data)\n",
    "        D_attr[i][j] = D_attr[j][i] = dist\n",
    "        \n",
    "if os.path.exists(\"output\"):\n",
    "    print(\"Path exists\")\n",
    "else:\n",
    "    print(\"Path not found, creating directory\")\n",
    "    os.mkdir(\"output\")\n",
    "    \n",
    "np.savetxt(\"output/YachtAttributeDistMatrix.csv\", D_attr, fmt=\"%.2f\", delimiter=\",\")    "
   ]
  },
  {
   "cell_type": "code",
   "execution_count": 8,
   "metadata": {},
   "outputs": [],
   "source": [
    "# Generate sets of vertices\n",
    "V = set(n for n in range(len(D)))\n",
    "V_attr = set(n for n in range(len(D_attr)))"
   ]
  },
  {
   "cell_type": "code",
   "execution_count": 9,
   "metadata": {},
   "outputs": [],
   "source": [
    "# Generate graphs"
   ]
  },
  {
   "cell_type": "code",
   "execution_count": 10,
   "metadata": {},
   "outputs": [],
   "source": [
    "_ = sg.rngraph(V, D, \"output/yacht-inst-rng.gml\", inst_labels)"
   ]
  },
  {
   "cell_type": "code",
   "execution_count": 11,
   "metadata": {},
   "outputs": [],
   "source": [
    "_ = sg.rngraph(V_attr, D_attr, \"output/yacht-attr-rng.gml\", attr_labels)"
   ]
  }
 ],
 "metadata": {
  "kernelspec": {
   "display_name": "Python 3",
   "language": "python",
   "name": "python3"
  },
  "language_info": {
   "codemirror_mode": {
    "name": "ipython",
    "version": 3
   },
   "file_extension": ".py",
   "mimetype": "text/x-python",
   "name": "python",
   "nbconvert_exporter": "python",
   "pygments_lexer": "ipython3",
   "version": "3.8.5"
  }
 },
 "nbformat": 4,
 "nbformat_minor": 4
}

{
 "cells": [
  {
   "cell_type": "code",
   "execution_count": 1,
   "metadata": {},
   "outputs": [],
   "source": [
    "import stats"
   ]
  },
  {
   "cell_type": "code",
   "execution_count": 2,
   "metadata": {},
   "outputs": [
    {
     "name": "stdout",
     "output_type": "stream",
     "text": [
      "0.560448538317805\n",
      "-0.052057920629535355\n",
      "0.0\n"
     ]
    }
   ],
   "source": [
    "# Sensitivity matrices\n",
    "cm1 = [[20, 6],[5, 19]]\n",
    "print(stats.mcc(cm1))\n",
    "\n",
    "cm2 = [[20, 21],[5, 4]]\n",
    "print(stats.mcc(cm2))\n",
    "\n",
    "cm3 = [[40, 10],[0,0]]\n",
    "print(stats.mcc(cm3))"
   ]
  },
  {
   "cell_type": "code",
   "execution_count": 3,
   "metadata": {},
   "outputs": [
    {
     "name": "stdout",
     "output_type": "stream",
     "text": [
      "0.560448538317805\n",
      "-0.052057920629535355\n",
      "0.0\n"
     ]
    }
   ],
   "source": [
    "# Sensitivity matrices\n",
    "cm1 = [[19, 5],[6, 20]]\n",
    "print(stats.mcc(cm1))\n",
    "\n",
    "cm2 = [[4, 5],[21, 20]]\n",
    "print(stats.mcc(cm2))\n",
    "\n",
    "cm3 = [[40, 10],[0,0]]\n",
    "print(stats.mcc(cm3))"
   ]
  },
  {
   "cell_type": "code",
   "execution_count": 4,
   "metadata": {},
   "outputs": [
    {
     "name": "stdout",
     "output_type": "stream",
     "text": [
      "0.7205766921228921\n",
      "0.0\n"
     ]
    }
   ],
   "source": [
    "# Accuracy matrices\n",
    "cm1 = [[21, 3],[4, 22]]\n",
    "print(stats.mcc(cm1))\n",
    "\n",
    "cm3 = [[40, 10],[0,0]]\n",
    "print(stats.mcc(cm3))"
   ]
  },
  {
   "cell_type": "code",
   "execution_count": null,
   "metadata": {},
   "outputs": [],
   "source": []
  }
 ],
 "metadata": {
  "kernelspec": {
   "display_name": "Python 3",
   "language": "python",
   "name": "python3"
  },
  "language_info": {
   "codemirror_mode": {
    "name": "ipython",
    "version": 3
   },
   "file_extension": ".py",
   "mimetype": "text/x-python",
   "name": "python",
   "nbconvert_exporter": "python",
   "pygments_lexer": "ipython3",
   "version": "3.8.5"
  }
 },
 "nbformat": 4,
 "nbformat_minor": 4
}

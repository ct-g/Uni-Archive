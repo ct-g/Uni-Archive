{
 "cells": [
  {
   "cell_type": "code",
   "execution_count": 1,
   "metadata": {},
   "outputs": [],
   "source": [
    "#TODO test notebook on workshop computer\n",
    "#     gather results into report (best yed layout to use?), tabulate results of exercises 7-8 \n",
    "#     consider removing merging of 0 distance vertices, code is messy\n",
    "#     find more optimal solutions for subgraphs.py if time permits\n",
    "# Questions\n",
    "#     Does question 1c require the MST using the results of 1a or 1b? A: choose whatever\n",
    "#     For graph creation, the jaccard measure shouldn't be used directly? Using matrix of (1 - j) values for now\n",
    "        # Make this (1 - j) occur at matrix creation rather than just before graphs are generated\n",
    "        # A: use whatever is in the cited source\n",
    "#     Announcement suggests merging vertices with distance of 0, is this necessary or optional?\n",
    "        # This might change the results of the KNN algorithm\n",
    "        # A: Optional"
   ]
  },
  {
   "cell_type": "code",
   "execution_count": 2,
   "metadata": {},
   "outputs": [],
   "source": [
    "# Cite jaccad measure and jaccard measure complement (distance) resource (Wikipedia is acceptable)\n",
    "# Cite hamming distance resource\n",
    "# Cite lecture notes for graph algorithms\n",
    "# Section of report containing code, python version and project setup (submission only accepts pdf, can't .py files)"
   ]
  },
  {
   "cell_type": "code",
   "execution_count": 3,
   "metadata": {},
   "outputs": [],
   "source": [
    "import math\n",
    "import networkx as nx\n",
    "import numpy as np\n",
    "import os\n",
    "import pandas as pd\n",
    "import pylab as plt"
   ]
  },
  {
   "cell_type": "code",
   "execution_count": 4,
   "metadata": {
    "scrolled": true
   },
   "outputs": [
    {
     "name": "stdout",
     "output_type": "stream",
     "text": [
      "   Year  Q1  Q2  Q3  Q4  Q5  Q6  Q7  Q8  Q9  Q10  Q11  Q12  Target\n",
      "0  1864   0   0   0   0   1   0   0   1   1    0    0    0       1\n",
      "1  1868   1   1   0   0   0   0   1   1   1    0    1    0       1\n",
      "2  1872   1   1   0   0   1   0   1   0   0    0    1    0       1\n",
      "3  1880   1   0   0   1   0   0   1   1   0    0    0    0       1\n",
      "4  1888   0   0   0   0   1   0   0   0   0    0    0    0       1\n"
     ]
    }
   ],
   "source": [
    "data = pd.read_csv(\"USPresidency.csv\")\n",
    "print(data.head())"
   ]
  },
  {
   "cell_type": "code",
   "execution_count": 5,
   "metadata": {},
   "outputs": [
    {
     "name": "stdout",
     "output_type": "stream",
     "text": [
      "1864, 1868, 1872, 1880, 1888, 1900, 1904, 1908, 1916, 1924, 1928, 1936, 1940, 1944, 1948, 1956, 1964, 1972, 1860, 1876, 1884, 1892, 1896, 1912, 1920, 1932, 1952, 1960, 1968, 1976, 1980, "
     ]
    }
   ],
   "source": [
    "# Store election years to be used as labels\n",
    "elections_data = data.iloc[:, 0]\n",
    "elections = []\n",
    "for index, election in enumerate(elections_data):\n",
    "    # Convert from int64 to str (necessary to prevent networkx type errors)\n",
    "    elections.append(str(elections_data[index]))\n",
    "    print(election, end=\", \")"
   ]
  },
  {
   "cell_type": "code",
   "execution_count": 6,
   "metadata": {},
   "outputs": [
    {
     "name": "stdout",
     "output_type": "stream",
     "text": [
      "   Q1  Q2  Q3  Q4  Q5  Q6  Q7  Q8  Q9  Q10  Q11  Q12\n",
      "0   0   0   0   0   1   0   0   1   1    0    0    0\n",
      "1   1   1   0   0   0   0   1   1   1    0    1    0\n",
      "2   1   1   0   0   1   0   1   0   0    0    1    0\n",
      "3   1   0   0   1   0   0   1   1   0    0    0    0\n",
      "4   0   0   0   0   1   0   0   0   0    0    0    0\n"
     ]
    }
   ],
   "source": [
    "# Remove class type and instance label\n",
    "data = data.iloc[:, 1:-1]\n",
    "print(data.head())"
   ]
  },
  {
   "cell_type": "code",
   "execution_count": 7,
   "metadata": {},
   "outputs": [],
   "source": [
    "# Functions used for generating required distance matrices\n",
    "def hamming_distance(x, y):\n",
    "    distance = 0\n",
    "    for i in range(len(x)):\n",
    "        if x[i] != y[i]:\n",
    "            distance += 1\n",
    "    \n",
    "    return distance\n",
    "\n",
    "\n",
    "def union_size(x, y):\n",
    "    count = 0\n",
    "    for index, item in enumerate(x):\n",
    "        if item or y[index] == 1:\n",
    "            count += 1\n",
    "    \n",
    "    return count\n",
    "\n",
    "\n",
    "def intersect_size(x, y):\n",
    "    count = 0\n",
    "    for index, item in enumerate(x):\n",
    "        if item == y[index] and item == 1:\n",
    "            count += 1\n",
    "            \n",
    "    return count"
   ]
  },
  {
   "cell_type": "code",
   "execution_count": 8,
   "metadata": {},
   "outputs": [
    {
     "name": "stdout",
     "output_type": "stream",
     "text": [
      "[0 0 0 0 1 0 0 1 1 0 0 0]\n"
     ]
    }
   ],
   "source": [
    "print(data.iloc[0, :].values)"
   ]
  },
  {
   "cell_type": "code",
   "execution_count": 9,
   "metadata": {},
   "outputs": [],
   "source": [
    "def merge_dupes(D):\n",
    "    merge = True\n",
    "    merged = []\n",
    "    # End the loop after a full pass of the matrix without any merges occurring\n",
    "    while merge:\n",
    "        cur_j = 0\n",
    "        merge = False\n",
    "        # Iterate through non-diagonal entries\n",
    "        for i in range(len(D)):\n",
    "            for j in range(i + 1, len(D)):\n",
    "                if D[i][j] == 0:\n",
    "                    cur_i = i\n",
    "                    cur_j = j\n",
    "                    \n",
    "        \n",
    "        if cur_j != 0:\n",
    "            D = np.delete(D, cur_j, 0)\n",
    "            D = np.delete(D, cur_j, 1)\n",
    "            merged.append([cur_i, cur_j])\n",
    "            merge = True\n",
    "            \n",
    "    return D, merged"
   ]
  },
  {
   "cell_type": "code",
   "execution_count": 10,
   "metadata": {
    "scrolled": false
   },
   "outputs": [
    {
     "name": "stdout",
     "output_type": "stream",
     "text": [
      "Path exists\n"
     ]
    }
   ],
   "source": [
    "# Create Hamming Distance and Jaccard measure matrices and save as csv\n",
    "ninst, nattr = data.shape\n",
    "HD = np.zeros((ninst, ninst))\n",
    "JD = np.zeros((ninst, ninst))\n",
    "\n",
    "for i in range(ninst):\n",
    "    idata = data.iloc[i, :].values\n",
    "    for j in range(ninst):\n",
    "        jdata = data.iloc[j, :].values\n",
    "        \n",
    "        # Hamming Distance matrix\n",
    "        dist = hamming_distance(idata, jdata)\n",
    "        HD[i][j]= dist\n",
    "        \n",
    "        # Jaccard measure matrix\n",
    "        jaccard = intersect_size(idata, jdata) / union_size(idata, jdata)\n",
    "        # Take the complement of the Jaccard measure to get a measure of dissimilarity\n",
    "        JD[i][j] = 1 - jaccard\n",
    "        \n",
    "\n",
    "if os.path.exists(\"US\"):\n",
    "    print(\"Path exists\")\n",
    "else:\n",
    "    print(\"Path not found, creating directory\")\n",
    "    os.mkdir(\"US\")\n",
    "\n",
    "HD, merged  = merge_dupes(HD)\n",
    "JD, _ = merge_dupes(JD)\n",
    "\n",
    "np.savetxt(\"US/HammingDistanceMatrix.csv\", HD, fmt=\"%.2f\", delimiter=\",\")\n",
    "np.savetxt(\"US/JaccardMeasureMatrix.csv\", JD, fmt=\"%.2f\", delimiter=\",\")"
   ]
  },
  {
   "cell_type": "code",
   "execution_count": 11,
   "metadata": {},
   "outputs": [
    {
     "name": "stdout",
     "output_type": "stream",
     "text": [
      "['1864,1972' '1868' '1872,1904' '1880' '1888' '1900' '1908' '1916' '1924'\n",
      " '1928' '1936' '1940' '1944' '1948' '1956' '1964' '1860' '1876' '1884'\n",
      " '1892' '1896' '1912' '1920' '1932' '1952' '1960' '1968' '1976' '1980']\n"
     ]
    }
   ],
   "source": [
    "# Update labels to reflect merges\n",
    "for indices in merged:\n",
    "    elections[indices[0]] = elections[indices[0]] + \",\" + elections[indices[1]]\n",
    "    elections = np.delete(elections, indices[1])\n",
    "\n",
    "print(elections)"
   ]
  },
  {
   "cell_type": "code",
   "execution_count": 12,
   "metadata": {},
   "outputs": [],
   "source": [
    "# Create the same matrices but for the columns(attributes) rather than the rows(instances)\n",
    "HD_f = np.zeros((nattr, nattr))\n",
    "JD_f = np.zeros((nattr, nattr))\n",
    "\n",
    "for i in range(nattr):\n",
    "    idata = data.iloc[:, i].values\n",
    "    for j in range(nattr):\n",
    "        jdata = data.iloc[:, j].values\n",
    "        \n",
    "        # Hamming Distance matrix\n",
    "        dist = hamming_distance(idata, jdata)\n",
    "        HD_f[i][j] = dist\n",
    "        \n",
    "        # Jaccard measure matrix\n",
    "        jaccard = intersect_size(idata, jdata) / union_size(idata, jdata)\n",
    "        JD_f[i][j] = 1 - jaccard\n",
    "        \n",
    "        \n",
    "np.savetxt(\"US/AttributeHammingDistanceMatrix.csv\", HD_f, fmt=\"%.2f\", delimiter=\",\")\n",
    "np.savetxt(\"US/AttributeJaccardMeasureMatrix.csv\", JD_f, fmt=\"%.2f\", delimiter=\",\")"
   ]
  },
  {
   "cell_type": "code",
   "execution_count": 13,
   "metadata": {},
   "outputs": [],
   "source": [
    "# Generate set of vertices\n",
    "V = set(n for n in range(len(HD)))"
   ]
  },
  {
   "cell_type": "code",
   "execution_count": 14,
   "metadata": {},
   "outputs": [],
   "source": [
    "import subgraphs as sg"
   ]
  },
  {
   "cell_type": "code",
   "execution_count": 15,
   "metadata": {},
   "outputs": [
    {
     "name": "stdout",
     "output_type": "stream",
     "text": [
      "Subgraphs module version  0.3.1\n"
     ]
    }
   ],
   "source": [
    "# Used to reload library in Jupyter after it has been edited\n",
    "import importlib\n",
    "importlib.reload(sg)\n",
    "print(\"Subgraphs module version \", sg.__version__)"
   ]
  },
  {
   "cell_type": "code",
   "execution_count": 16,
   "metadata": {},
   "outputs": [
    {
     "name": "stdout",
     "output_type": "stream",
     "text": [
      "Generating graphs and saving as .gml\n"
     ]
    }
   ],
   "source": [
    "print(\"Generating graphs and saving as .gml\")"
   ]
  },
  {
   "cell_type": "code",
   "execution_count": 17,
   "metadata": {},
   "outputs": [],
   "source": [
    "# Create MST using Hamming Distance matrix\n",
    "mst_hd = sg.mst(V, HD, \"US/us-graph-mst-hd.gml\", elections)"
   ]
  },
  {
   "cell_type": "code",
   "execution_count": 18,
   "metadata": {},
   "outputs": [],
   "source": [
    "# Create RNG using Hamming Distance matrix\n",
    "_ = sg.rngraph(V, HD, \"US/us-graph-rng-hd.gml\", elections)"
   ]
  },
  {
   "cell_type": "code",
   "execution_count": 19,
   "metadata": {},
   "outputs": [],
   "source": [
    "# Create MST using Jaccard distance matrix\n",
    "mst_jd = sg.mst(V, JD, \"US/us-graph-mst-jd.gml\", elections)"
   ]
  },
  {
   "cell_type": "code",
   "execution_count": 20,
   "metadata": {},
   "outputs": [],
   "source": [
    "# Create RNG using Jaccard distance matrix\n",
    "_ = sg.rngraph(V, JD, \"US/us-graph-rng-jd.gml\", elections)"
   ]
  },
  {
   "cell_type": "code",
   "execution_count": 21,
   "metadata": {},
   "outputs": [],
   "source": [
    "# Create KNN with k=2 using Hamming Distance matrix\n",
    "knn_hd = sg.knn(V, HD, 2, \"US/us-graph-knn-hd.gml\", elections)"
   ]
  },
  {
   "cell_type": "code",
   "execution_count": 22,
   "metadata": {},
   "outputs": [],
   "source": [
    "# Create KNN with k=2 using Jaccard distance matrix\n",
    "knn_jd = sg.knn(V, JD, 2, \"US/us-graph-knn-jd.gml\", elections)"
   ]
  },
  {
   "cell_type": "code",
   "execution_count": 23,
   "metadata": {},
   "outputs": [],
   "source": [
    "# MST-KNN graph, k=2, Hamming Distance\n",
    "_ = sg.mst_knn(mst_hd, knn_hd, \"US/us-graph-mst-knn-hd.gml\")"
   ]
  },
  {
   "cell_type": "code",
   "execution_count": 24,
   "metadata": {},
   "outputs": [],
   "source": [
    "# MST-KNN graph, k=2, Jaccard distance\n",
    "_ = sg.mst_knn(mst_jd, knn_jd, \"US/us-graph-mst-knn-jd.gml\")"
   ]
  },
  {
   "cell_type": "code",
   "execution_count": 25,
   "metadata": {},
   "outputs": [
    {
     "name": "stdout",
     "output_type": "stream",
     "text": [
      "Done\n"
     ]
    }
   ],
   "source": [
    "print(\"Done\")"
   ]
  },
  {
   "cell_type": "code",
   "execution_count": 26,
   "metadata": {},
   "outputs": [
    {
     "name": "stdout",
     "output_type": "stream",
     "text": [
      "['1864,1972', '1916', 1.0]\n"
     ]
    }
   ],
   "source": [
    "# Generate MST-KNN using networkx's mst function to compare output\n",
    "G = nx.Graph()\n",
    "\n",
    "labels = {}\n",
    "for n in range(len(HD)):\n",
    "    for m in range(len(HD) - (n+1)):\n",
    "        u = elections[n]\n",
    "        v = elections[n+m+1]\n",
    "        G.add_edge(u, v, weight=HD[n][n+m+1])\n",
    "        labels[(u, v)] = \"{:.2f}\".format(HD[n][n+m+1])\n",
    "\n",
    "\n",
    "mst_nx_edges = nx.algorithms.tree.mst.prim_mst_edges(G, True)\n",
    "\n",
    "mst_nx = []\n",
    "print(knn_hd[0])\n",
    "for edge in mst_nx_edges:\n",
    "    mst_nx.append([edge[0], edge[1], -1]) # Filler weight value, clusters are important due to shared edges not weights\n",
    "    \n",
    "_ = sg.mst_knn(mst_nx, knn_hd, \"US/networkx-mst-knn-hd.gml\")"
   ]
  },
  {
   "cell_type": "code",
   "execution_count": 27,
   "metadata": {},
   "outputs": [
    {
     "name": "stdout",
     "output_type": "stream",
     "text": [
      "['1864,1972', '1916', 1.0]\n"
     ]
    }
   ],
   "source": [
    "G = nx.Graph()\n",
    "\n",
    "labels = {}\n",
    "for n in range(len(JD)):\n",
    "    for m in range(len(JD) - (n+1)):\n",
    "        u = elections[n]\n",
    "        v = elections[n+m+1]\n",
    "        G.add_edge(u, v, weight=JD[n][n+m+1])\n",
    "        labels[(u, v)] = \"{:.2f}\".format(JD[n][n+m+1])\n",
    "\n",
    "\n",
    "mst_nx_edges = nx.algorithms.tree.mst.prim_mst_edges(G, True)\n",
    "\n",
    "mst_nx = []\n",
    "print(knn_hd[0])\n",
    "for edge in mst_nx_edges:\n",
    "    mst_nx.append([edge[0], edge[1], -1]) # Filler weight value, clusters are important due to shared edges not weights\n",
    "    \n",
    "_ = sg.mst_knn(mst_nx, knn_jd, \"US/networkx-mst-knn-jd.gml\")"
   ]
  },
  {
   "cell_type": "code",
   "execution_count": null,
   "metadata": {},
   "outputs": [],
   "source": []
  }
 ],
 "metadata": {
  "kernelspec": {
   "display_name": "Python 3",
   "language": "python",
   "name": "python3"
  },
  "language_info": {
   "codemirror_mode": {
    "name": "ipython",
    "version": 3
   },
   "file_extension": ".py",
   "mimetype": "text/x-python",
   "name": "python",
   "nbconvert_exporter": "python",
   "pygments_lexer": "ipython3",
   "version": "3.8.2"
  }
 },
 "nbformat": 4,
 "nbformat_minor": 4
}
